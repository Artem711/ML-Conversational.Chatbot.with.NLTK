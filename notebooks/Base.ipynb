{
 "cells": [
  {
   "cell_type": "markdown",
   "id": "88498cdf",
   "metadata": {},
   "source": [
    "## Theory: Introduction to NLP"
   ]
  },
  {
   "cell_type": "markdown",
   "id": "5d99469e",
   "metadata": {},
   "source": [
    "## Theory: Importance of NLP"
   ]
  },
  {
   "cell_type": "markdown",
   "id": "a514a242",
   "metadata": {},
   "source": [
    "## Theory: Introduction to NLTK for Text Classification"
   ]
  },
  {
   "cell_type": "markdown",
   "id": "6a843d5f",
   "metadata": {},
   "source": [
    "## Practical: Data Preprocessing"
   ]
  },
  {
   "cell_type": "markdown",
   "id": "ba9642dc",
   "metadata": {},
   "source": [
    "## Practical: NLTK Text Classification - Tokenisation"
   ]
  },
  {
   "cell_type": "markdown",
   "id": "d41f9eb6",
   "metadata": {},
   "source": [
    "## Practical: NLTK Text Classification - Stopwords"
   ]
  },
  {
   "cell_type": "markdown",
   "id": "8c463f67",
   "metadata": {},
   "source": [
    "## Practical: NLTK Text Classification - Tagging"
   ]
  },
  {
   "cell_type": "markdown",
   "id": "b3aba9b2",
   "metadata": {},
   "source": [
    "## Practical: NLTK Text Classification - Lemmatisation"
   ]
  },
  {
   "cell_type": "markdown",
   "id": "240770cc",
   "metadata": {},
   "source": [
    "## Practical: NLTK Text Classification - Stemming"
   ]
  },
  {
   "cell_type": "markdown",
   "id": "5a66b222",
   "metadata": {},
   "source": [
    "## Practical: Threading together all the preprocessing"
   ]
  },
  {
   "cell_type": "markdown",
   "id": "99f2302b",
   "metadata": {},
   "source": [
    "## Practical: Bag Of Words"
   ]
  },
  {
   "cell_type": "markdown",
   "id": "9847c74a",
   "metadata": {},
   "source": [
    "## Practical: NLP Chatbot Engine - Understanding the data"
   ]
  },
  {
   "cell_type": "markdown",
   "id": "1d7fbaf9",
   "metadata": {},
   "source": [
    "## Practical: Preparing data for machine learning text classification models"
   ]
  },
  {
   "cell_type": "markdown",
   "id": "3fe2ba52",
   "metadata": {},
   "source": [
    "## Practical: Splitting the dataset"
   ]
  },
  {
   "cell_type": "markdown",
   "id": "a5dcabaf",
   "metadata": {},
   "source": [
    "## Practical: Decision tree classifier"
   ]
  },
  {
   "cell_type": "markdown",
   "id": "ae5aae10",
   "metadata": {},
   "source": [
    "## Practical: Naive Bayes Classifier"
   ]
  },
  {
   "cell_type": "markdown",
   "id": "7ba39daa",
   "metadata": {},
   "source": [
    "## Practical: Creating the NLP Chatbot Engine Function"
   ]
  }
 ],
 "metadata": {
  "kernelspec": {
   "display_name": "Python 3 (ipykernel)",
   "language": "python",
   "name": "python3"
  },
  "language_info": {
   "codemirror_mode": {
    "name": "ipython",
    "version": 3
   },
   "file_extension": ".py",
   "mimetype": "text/x-python",
   "name": "python",
   "nbconvert_exporter": "python",
   "pygments_lexer": "ipython3",
   "version": "3.9.12"
  }
 },
 "nbformat": 4,
 "nbformat_minor": 5
}
